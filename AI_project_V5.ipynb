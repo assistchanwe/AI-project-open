{
  "nbformat": 4,
  "nbformat_minor": 0,
  "metadata": {
    "colab": {
      "name": "AI_project_V5.ipynb",
      "provenance": [],
      "authorship_tag": "ABX9TyPem2JU711TTLVxp78AxZoR",
      "include_colab_link": true
    },
    "kernelspec": {
      "name": "python3",
      "display_name": "Python 3"
    },
    "language_info": {
      "name": "python"
    }
  },
  "cells": [
    {
      "cell_type": "markdown",
      "metadata": {
        "id": "view-in-github",
        "colab_type": "text"
      },
      "source": [
        "<a href=\"https://colab.research.google.com/github/assistchanwe/AI-project-open/blob/main/AI_project_V5.ipynb\" target=\"_parent\"><img src=\"https://colab.research.google.com/assets/colab-badge.svg\" alt=\"Open In Colab\"/></a>"
      ]
    },
    {
      "cell_type": "code",
      "execution_count": 5,
      "metadata": {
        "colab": {
          "base_uri": "https://localhost:8080/"
        },
        "id": "kcmPiQcIchxo",
        "outputId": "c89912e6-f92e-4613-aa19-a967c553f1c8"
      },
      "outputs": [
        {
          "name": "stdout",
          "output_type": "stream",
          "text": [
            "검색: 하늘\n",
            "하늘 은/는 푸른\n",
            "검색: stop\n"
          ]
        }
      ],
      "source": [
        "data_1=['하늘','바다','산']\n",
        "data_2=['푸른','푸르른','높은']\n",
        "end=0\n",
        "def 검색(input_i):\n",
        "    indata=0\n",
        "    for i in range(0,len(data_1)): # 데이터 유무 판단\n",
        "        if input_i==data_1[i]:\n",
        "            indata+=1\n",
        "    if indata==1: #데이터가 있을 경우\n",
        "        index=data_1.index(input_i)\n",
        "        print(input_i,'은/는',data_2[index])\n",
        "        indata=indata-1\n",
        "    else: #데이터가 없을 경우\n",
        "        input_i2=input(input_i+'는 무엇입니까? ')\n",
        "        data_1.append(input_i)\n",
        "        data_2.append(input_i2)\n",
        "while end==0:\n",
        "    input_i3=input('검색: ')\n",
        "    if input_i3=='stop': #사용자가 검색 중지를 원할경우\n",
        "        end=1\n",
        "    else: #원하지 않을 경우\n",
        "        검색(input_i3)"
      ]
    }
  ]
}