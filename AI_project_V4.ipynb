{
  "nbformat": 4,
  "nbformat_minor": 0,
  "metadata": {
    "colab": {
      "name": "AI_project V4.ipynb",
      "provenance": [],
      "authorship_tag": "ABX9TyPi1c9tVmelVILQ6QL/QGjg",
      "include_colab_link": true
    },
    "kernelspec": {
      "name": "python3",
      "display_name": "Python 3"
    },
    "language_info": {
      "name": "python"
    }
  },
  "cells": [
    {
      "cell_type": "markdown",
      "metadata": {
        "id": "view-in-github",
        "colab_type": "text"
      },
      "source": [
        "<a href=\"https://colab.research.google.com/github/assistchanwe/AI-project-open/blob/main/AI_project_V4.ipynb\" target=\"_parent\"><img src=\"https://colab.research.google.com/assets/colab-badge.svg\" alt=\"Open In Colab\"/></a>"
      ]
    },
    {
      "cell_type": "code",
      "execution_count": 2,
      "metadata": {
        "colab": {
          "base_uri": "https://localhost:8080/"
        },
        "id": "cxmd5dsQjVie",
        "outputId": "b7f6873a-4c93-420b-8fe1-b8ad4da9d633"
      },
      "outputs": [
        {
          "name": "stdout",
          "output_type": "stream",
          "text": [
            "검색할 내용을 입력하세요아잉\n",
            "아잉는 무엇입니까?아잉눈의 준말\n",
            "검색할 내용을 입력하세요강\n",
            "강는 무엇입니까?.\n",
            "검색할 내용을 입력하세요아잉\n",
            "아잉 는 아잉눈의 준말\n",
            "검색할 내용을 입력하세요stop\n"
          ]
        }
      ],
      "source": [
        "#검색, 저장장치\n",
        "data_1=['하늘','바다','산']\n",
        "data_2=['푸른','푸르른','높은']\n",
        "end=0\n",
        "indata=0\n",
        "while end==0:\n",
        "    input_i=input('검색할 내용을 입력하세요')\n",
        "    for i in range(0,len(data_1)):\n",
        "        if input_i==data_1[i]:\n",
        "            indata+=1\n",
        "    if indata==1:\n",
        "        index=data_1.index(input_i)\n",
        "        print(input_i,'는',data_2[index])\n",
        "        indata=indata-1\n",
        "    elif input_i=='stop':\n",
        "        end+=1\n",
        "    else:\n",
        "        input_i2=input(input_i+'는 무엇입니까?')\n",
        "        data_1.append(input_i)\n",
        "        data_2.append(input_i2)\n"
      ]
    }
  ]
}