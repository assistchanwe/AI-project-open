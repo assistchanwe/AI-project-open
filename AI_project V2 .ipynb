{
  "nbformat": 4,
  "nbformat_minor": 0,
  "metadata": {
    "colab": {
      "name": "AI-project",
      "provenance": [],
      "include_colab_link": true
    },
    "kernelspec": {
      "name": "python3",
      "display_name": "Python 3"
    },
    "language_info": {
      "name": "python"
    }
  },
  "cells": [
    {
      "cell_type": "markdown",
      "metadata": {
        "id": "view-in-github",
        "colab_type": "text"
      },
      "source": [
        "<a href=\"https://colab.research.google.com/github/assistchanwe/AI-project-open/blob/main/AI_project%20V2%20.ipynb\" target=\"_parent\"><img src=\"https://colab.research.google.com/assets/colab-badge.svg\" alt=\"Open In Colab\"/></a>"
      ]
    },
    {
      "cell_type": "code",
      "execution_count": 11,
      "metadata": {
        "colab": {
          "base_uri": "https://localhost:8080/"
        },
        "id": "hIqaWfxeNHLN",
        "outputId": "f38b5603-0609-4452-9f0e-20ba14c03fa4"
      },
      "outputs": [
        {
          "name": "stdout",
          "output_type": "stream",
          "text": [
            "검색할 단어를 입력하십시오: 가을\n",
            "가을은 무엇입니까? 단풍이 피는 계절\n",
            "검색할 단어를 입력하십시오: clean\n",
            "검색할 단어를 입력하십시오: 가을\n",
            "가을은 무엇입니까? stop\n",
            "검색할 단어를 입력하십시오: stop\n"
          ]
        }
      ],
      "source": [
        "데이터=['안녕']\n",
        "확인된데이터=['인사말']\n",
        "while True:\n",
        "  answer=input(\"검색할 단어를 입력하십시오: \")\n",
        "  if answer in 데이터:\n",
        "       여기 = 데이터.index(answer)\n",
        "       print(데이터[(여기)] + \"은/는\" + 확인된데이터[(여기)])\n",
        "  elif answer =='stop':\n",
        "    break\n",
        "  elif answer == 'restart':\n",
        "    continue\n",
        "  elif answer == 'clean':\n",
        "    데이터.clear()\n",
        "    확인된데이터.clear()\n",
        "  else:\n",
        "       데이터.append(answer)\n",
        "       Entryanswer=input(answer + \"은 무엇입니까? \")\n",
        "       if answer==\"stop\":\n",
        "         데이터.remove(answer)\n",
        "         break\n",
        "       확인된데이터.append(Entryanswer)"
      ]
    },
    {
      "cell_type": "code",
      "source": [
        ""
      ],
      "metadata": {
        "id": "PNXkr17co0hY"
      },
      "execution_count": null,
      "outputs": []
    }
  ]
}